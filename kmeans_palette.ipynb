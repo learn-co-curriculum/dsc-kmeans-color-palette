{
 "cells": [
  {
   "cell_type": "markdown",
   "id": "94387c75",
   "metadata": {
    "slideshow": {
     "slide_type": "slide"
    }
   },
   "source": [
    "# Intro to Data Science | Machine Learning Behind Instagram & TikTok Filters\n",
    "\n",
    "---\n",
    "\n",
    "<center><img src=\"banner.jpeg\" width=\"600px\"/></center>\n",
    "\n",
    "Erin Hoffman, Data Science Curriculum Developer at Flatiron School\n",
    "\n",
    "May 25, 2022\n",
    "\n",
    "https://github.com/learn-co-curriculum/dsc-kmeans-color-palette"
   ]
  },
  {
   "cell_type": "markdown",
   "id": "8f9d3dfe",
   "metadata": {
    "slideshow": {
     "slide_type": "subslide"
    }
   },
   "source": [
    "## Agenda\n",
    "\n",
    "1. Images as Data\n",
    "2. Machine Learning Taxonomy of Instagram & TikTok Filters\n",
    "3. K-Means Clustering\n",
    "4. Applying K-Means Clustering to Images Using Python"
   ]
  },
  {
   "cell_type": "markdown",
   "id": "dd120369",
   "metadata": {
    "slideshow": {
     "slide_type": "slide"
    }
   },
   "source": [
    "## 1. Images as Data"
   ]
  },
  {
   "cell_type": "markdown",
   "id": "7153d5a1",
   "metadata": {
    "slideshow": {
     "slide_type": "subslide"
    }
   },
   "source": [
    "### Data\n",
    "\n",
    "Some results from a Wikimedia Commons search for \"data\":"
   ]
  },
  {
   "cell_type": "markdown",
   "id": "b661595f",
   "metadata": {
    "slideshow": {
     "slide_type": "fragment"
    }
   },
   "source": [
    "<div>\n",
    "    <div style=\"width: 50%; float: left;\"><a title=\"Ferd1508, CC BY-SA 4.0 &lt;https://creativecommons.org/licenses/by-sa/4.0&gt;, via Wikimedia Commons\" href=\"https://commons.wikimedia.org/wiki/File:SEK2_Bild_1.png\"><img width=\"512\" alt=\"SEK2 Bild 1\" src=\"https://upload.wikimedia.org/wikipedia/commons/thumb/c/c7/SEK2_Bild_1.png/512px-SEK2_Bild_1.png\"></a></div>\n",
    "    <div style=\"width: 50%; float: left;\"><a title=\"PIX1861, CC BY-SA 4.0 &lt;https://creativecommons.org/licenses/by-sa/4.0&gt;, via Wikimedia Commons\" href=\"https://commons.wikimedia.org/wiki/File:Chart-g38b45fc3e_1920.jpg\"><img width=\"512\" alt=\"Chart-g38b45fc3e 1920\" src=\"https://upload.wikimedia.org/wikipedia/commons/thumb/9/90/Chart-g38b45fc3e_1920.jpg/512px-Chart-g38b45fc3e_1920.jpg\"></a></div>\n",
    "</div>"
   ]
  },
  {
   "cell_type": "markdown",
   "id": "cfb38541",
   "metadata": {
    "slideshow": {
     "slide_type": "fragment"
    }
   },
   "source": [
    "**DS vocabulary word:** tabular data"
   ]
  },
  {
   "cell_type": "markdown",
   "id": "29e19bf1",
   "metadata": {
    "slideshow": {
     "slide_type": "subslide"
    }
   },
   "source": [
    "### Tabular Data in Python\n",
    "\n",
    "One of the most common formats for tabular data is CSV. You can read more about it [here](https://github.com/learn-co-curriculum/dsc-csv)."
   ]
  },
  {
   "cell_type": "code",
   "execution_count": null,
   "id": "c4332127",
   "metadata": {
    "slideshow": {
     "slide_type": "fragment"
    }
   },
   "outputs": [],
   "source": [
    "with open(\"track_times.csv\") as f:\n",
    "    for line in f:\n",
    "        print(line)"
   ]
  },
  {
   "cell_type": "code",
   "execution_count": null,
   "id": "1be32caa",
   "metadata": {
    "slideshow": {
     "slide_type": "fragment"
    }
   },
   "outputs": [],
   "source": [
    "import pandas as pd\n",
    "pd.read_csv(\"track_times.csv\", header=None)"
   ]
  },
  {
   "cell_type": "markdown",
   "id": "80806960",
   "metadata": {
    "slideshow": {
     "slide_type": "subslide"
    }
   },
   "source": [
    "### Beyond Tabular Data\n",
    "\n",
    "On the computer's hard drive, all data is stored as binary. This includes images!\n",
    "\n",
    "<a title=\"Graph+sas, CC BY-SA 4.0 &lt;https://creativecommons.org/licenses/by-sa/4.0&gt;, via Wikimedia Commons\" href=\"https://commons.wikimedia.org/wiki/File:Binary-code.png\"><img width=\"1024\" alt=\"Binary-code\" src=\"https://upload.wikimedia.org/wikipedia/commons/thumb/a/a7/Binary-code.png/1024px-Binary-code.png\"></a>"
   ]
  },
  {
   "cell_type": "markdown",
   "id": "05da20b6",
   "metadata": {
    "slideshow": {
     "slide_type": "subslide"
    }
   },
   "source": [
    "### Image Data in Python"
   ]
  },
  {
   "cell_type": "code",
   "execution_count": null,
   "id": "16bd08de",
   "metadata": {
    "slideshow": {
     "slide_type": "fragment"
    }
   },
   "outputs": [],
   "source": [
    "with open(\"banner.jpeg\", \"rb\") as f:\n",
    "    for line in f:\n",
    "        print(line)"
   ]
  },
  {
   "cell_type": "code",
   "execution_count": null,
   "id": "e977f8d8",
   "metadata": {
    "slideshow": {
     "slide_type": "fragment"
    }
   },
   "outputs": [],
   "source": [
    "bin(int(\"ff\", base=16))"
   ]
  },
  {
   "cell_type": "code",
   "execution_count": null,
   "id": "49ae044c",
   "metadata": {
    "slideshow": {
     "slide_type": "fragment"
    }
   },
   "outputs": [],
   "source": [
    "bin(int(\"d8\", base=16))"
   ]
  },
  {
   "cell_type": "code",
   "execution_count": null,
   "id": "9e722910",
   "metadata": {
    "slideshow": {
     "slide_type": "fragment"
    }
   },
   "outputs": [],
   "source": [
    "from PIL import Image\n",
    "\n",
    "image = Image.open(\"banner.jpeg\")\n",
    "display(image)"
   ]
  },
  {
   "cell_type": "markdown",
   "id": "8dd5bade",
   "metadata": {
    "slideshow": {
     "slide_type": "slide"
    }
   },
   "source": [
    "## 2. Machine Learning Taxonomy of Instagram & TikTok Filters"
   ]
  },
  {
   "cell_type": "markdown",
   "id": "ebaaea4b",
   "metadata": {
    "slideshow": {
     "slide_type": "subslide"
    }
   },
   "source": [
    "### Supervised vs. Unsupervised Learning"
   ]
  },
  {
   "cell_type": "markdown",
   "id": "aa5a42c6",
   "metadata": {
    "slideshow": {
     "slide_type": "fragment"
    }
   },
   "source": [
    "**Supervised** machine learning is the more well-known kind of machine learning. It includes classification and regression tasks. Supervised ML learns from labeled \"ground truth\" training data in order to make predictions about unknown or future data."
   ]
  },
  {
   "cell_type": "markdown",
   "id": "8b0c7755",
   "metadata": {
    "slideshow": {
     "slide_type": "fragment"
    }
   },
   "source": [
    "**Unsupervised** machine learning learns patterns from the data without any labeled \"ground truth\" training data. The main types of unsupervised ML are clustering, dimensionality reduction, and anomaly detection."
   ]
  },
  {
   "cell_type": "markdown",
   "id": "e4156da2",
   "metadata": {
    "slideshow": {
     "slide_type": "subslide"
    }
   },
   "source": [
    "### Supervised ML Filters\n",
    "\n",
    "(Note: I'm using \"filters\" and \"effects\" interchangeably here)\n",
    "\n",
    "<div>\n",
    "    <div style=\"width: 30%; float: left;\"><img src=\"https://backlightblog.com/images/2020/10/sunglasses-Instagram-effect-2.png\" /></div>\n",
    "    <div style=\"width: 30%; float: left;\"><img src=\"https://miro.medium.com/max/742/0*UQyrKx6RJDQWMtSP\" /></div>\n",
    "</div>"
   ]
  },
  {
   "cell_type": "markdown",
   "id": "c26a12fb",
   "metadata": {
    "slideshow": {
     "slide_type": "subslide"
    }
   },
   "source": [
    "### Unsupervised ML Filters\n",
    "\n",
    "<div>\n",
    "    <div style=\"width: 66%; float: left;\"><img src=\"https://www.lifewire.com/thmb/L-bT8MOm8iQM0w8US1QUXt5G_qc=/650x0/filters:no_upscale():max_bytes(150000):strip_icc():format(webp)/the-best-instagram-filters-for-2018-4177148-2-5bc680ab46e0fb00516cd6d3.jpg\" /></div>\n",
    "    <div style=\"width: 33%; float: left;\"><img src=\"nadiia_moore.png\" /></div>\n",
    "</div>"
   ]
  },
  {
   "cell_type": "markdown",
   "id": "782e8455",
   "metadata": {
    "slideshow": {
     "slide_type": "subslide"
    }
   },
   "source": [
    "### So Are You Teaching Us How to Make Instagram Filters?\n",
    "\n",
    "No, that is more of a design/graphics skill set. After the workshop you can definitely check out the software at these links for making Facebook/Instagram and TikTok filters respectively:\n",
    "\n",
    "* https://sparkar.facebook.com/ar-studio/\n",
    "* https://effecthouse.tiktok.com/\n",
    "\n",
    "Instead we are going to talk about an unsupervised ML algorithm that makes a particular filter work: **k-means clustering**"
   ]
  },
  {
   "cell_type": "markdown",
   "id": "850de34b",
   "metadata": {
    "slideshow": {
     "slide_type": "slide"
    }
   },
   "source": [
    "## Recapping What We've Covered So Far\n",
    "\n",
    "* Images are data\n",
    "  * DS is not limited to spreadsheet-style tabular data\n",
    "* Python code can be used to interact with data\n",
    "  * And Python libraries make our work much easier!\n",
    "* Machine learning includes both supervised ML and unsupervised ML\n",
    "  * Instagram and TikTok filters use both kinds of ML\n",
    "* We will specifically be covering k-means clustering, an unsupervised ML algorithm that can be used to make a color palette filter"
   ]
  },
  {
   "cell_type": "markdown",
   "id": "5b89f568",
   "metadata": {
    "slideshow": {
     "slide_type": "slide"
    }
   },
   "source": [
    "## 3. K-Means Clustering"
   ]
  },
  {
   "cell_type": "markdown",
   "id": "b3d17df7",
   "metadata": {
    "slideshow": {
     "slide_type": "subslide"
    }
   },
   "source": [
    "### Clustering = Finding Groups\n",
    "\n",
    "<img src=\"https://scikit-learn.org/stable/_images/sphx_glr_plot_cluster_comparison_001.png\" width=\"1100px\"/>"
   ]
  },
  {
   "cell_type": "markdown",
   "id": "e64e055c",
   "metadata": {
    "slideshow": {
     "slide_type": "subslide"
    }
   },
   "source": [
    "### Market Segmentation: \"Classic\" Clustering Use Case\n",
    "\n",
    "<img src=\"initialscenario.png\" width=\"800px\" />"
   ]
  },
  {
   "cell_type": "markdown",
   "id": "6f99782c",
   "metadata": {
    "slideshow": {
     "slide_type": "subslide"
    }
   },
   "source": [
    "### Clustering Visualizations\n",
    "\n",
    "| <img src=\"from-left.gif\" width=\"375px\"/> | <img src=\"from-right.gif\" width=\"375px\" />    |\n",
    "| ----------------------------- | --------------------------------- |\n",
    "| <img src=\"from-top.gif\" width=\"375px\" />   | <img src=\"from-bottom.gif\" width=\"375px\" /> |\n",
    "\n",
    "**DS vocabulary words:** centroid, optimization"
   ]
  },
  {
   "cell_type": "markdown",
   "id": "7397b407",
   "metadata": {
    "slideshow": {
     "slide_type": "subslide"
    }
   },
   "source": [
    "### The Math!\n",
    "\n",
    "* $\\mu$: mu, the mean\n",
    "* $n$: the number of points\n",
    "* $k$: the number of clusters\n",
    "* $i$: the index of the point\n",
    "* $j$: the index of the centroid\n",
    "\n",
    "We are trying to minimize $ \\sum\\limits_{j=1}^k \\sum\\limits_{i=1}^n || x_i - \\mu_j ||^2 $, AKA \"inertia\""
   ]
  },
  {
   "cell_type": "markdown",
   "id": "b0b8911a",
   "metadata": {
    "slideshow": {
     "slide_type": "fragment"
    }
   },
   "source": [
    "#### A) Initialize Centroids\n",
    "\n",
    "$$ \\mu_1, \\mu_2, ..., \\mu_k $$"
   ]
  },
  {
   "cell_type": "markdown",
   "id": "276752d8",
   "metadata": {
    "slideshow": {
     "slide_type": "fragment"
    }
   },
   "source": [
    "#### B) Assign Each Point to a Centroid\n",
    "\n",
    "$$ \\mathrm{argmin}_j (|| x_i - \\mu_j || ^ 2) $$"
   ]
  },
  {
   "cell_type": "markdown",
   "id": "b959ee35",
   "metadata": {
    "slideshow": {
     "slide_type": "fragment"
    }
   },
   "source": [
    "#### C) Move Each Centroid to a New Mean\n",
    "\n",
    "$$ \\mathrm{min}_\\mu (\\sum\\limits_{i=1}^n || x_i - \\mu ||^2) $$"
   ]
  },
  {
   "cell_type": "markdown",
   "id": "125a2a9f",
   "metadata": {
    "slideshow": {
     "slide_type": "fragment"
    }
   },
   "source": [
    "#### Repeat (B) and (C)\n",
    "\n",
    "Until centroids are no longer moving more than some small threshold"
   ]
  },
  {
   "cell_type": "markdown",
   "id": "fe3c056a",
   "metadata": {
    "slideshow": {
     "slide_type": "slide"
    }
   },
   "source": [
    "## 4. Applying K-Means Clustering to Images Using Python"
   ]
  },
  {
   "cell_type": "markdown",
   "id": "e5f8468a",
   "metadata": {
    "slideshow": {
     "slide_type": "subslide"
    }
   },
   "source": [
    "### Color Quantization\n",
    "\n",
    "<div>\n",
    "    <div style=\"width: 50%; float: left;\">\n",
    "        <img src=\"https://upload.wikimedia.org/wikipedia/commons/e/e3/Dithering_example_undithered.png\" />\n",
    "        <p>Original image</p>\n",
    "    </div>\n",
    "    <div style=\"width: 50%; float: left;\">\n",
    "        <img src=\"https://upload.wikimedia.org/wikipedia/en/4/48/Dithering_example_undithered_16color_palette.png\" />\n",
    "        <p>Image reduced to a palette of 16 colors</p>\n",
    "    </div>\n",
    "</div>\n",
    "\n",
    "Another way of representing this is that we want to minimize the Euclidean distance between colors. If two colors (red, green, blue) are represented as $(r_1, g_1, b_1)$ and $(r_2, g_2, b_2)$, we are trying to minimize:\n",
    "\n",
    "$$ \\sqrt{(r_1 - r_2)^2 + (g_1 - g_2)^2 + (b_1 - b_2)^2} $$"
   ]
  },
  {
   "cell_type": "markdown",
   "id": "8770eeb3",
   "metadata": {
    "slideshow": {
     "slide_type": "subslide"
    }
   },
   "source": [
    "### Let's Not Reinvent the Wheel\n",
    "\n",
    "We _could_ code out these formulas from scratch but we're not doing to do that. Instead we'll use another Python library, [scikit-learn](https://scikit-learn.org/stable/modules/generated/sklearn.cluster.KMeans.html)."
   ]
  },
  {
   "cell_type": "code",
   "execution_count": null,
   "id": "90e1d489",
   "metadata": {
    "slideshow": {
     "slide_type": "fragment"
    }
   },
   "outputs": [],
   "source": [
    "from sklearn.cluster import KMeans"
   ]
  },
  {
   "cell_type": "markdown",
   "id": "c528507d",
   "metadata": {
    "slideshow": {
     "slide_type": "fragment"
    }
   },
   "source": [
    "Scikit-learn has implementations of lots of different machine learning algorithms, and we use it a lot in the Flatiron School DS program!"
   ]
  },
  {
   "cell_type": "markdown",
   "id": "ddbb000e",
   "metadata": {
    "slideshow": {
     "slide_type": "subslide"
    }
   },
   "source": [
    "### Loading an Image into Python\n",
    "\n",
    "We'll use this image from the Met Museum's Gallery of Fashion:\n",
    "\n",
    "<a title=\"Metropolitan Museum of Art\n",
    ", CC0, via Wikimedia Commons\" href=\"https://commons.wikimedia.org/wiki/File:Gallery_of_Fashion,_vol._VII-_April_1_1800_-_March_1_1801_Met_DP889082.jpg\"><img width=\"512\" alt=\"Gallery of Fashion, vol. VII- April 1 1800 - March 1 1801 Met DP889082\" src=\"https://upload.wikimedia.org/wikipedia/commons/thumb/7/7c/Gallery_of_Fashion%2C_vol._VII-_April_1_1800_-_March_1_1801_Met_DP889082.jpg/512px-Gallery_of_Fashion%2C_vol._VII-_April_1_1800_-_March_1_1801_Met_DP889082.jpg\"></a>"
   ]
  },
  {
   "cell_type": "code",
   "execution_count": null,
   "id": "1bf82151",
   "metadata": {
    "slideshow": {
     "slide_type": "fragment"
    }
   },
   "outputs": [],
   "source": [
    "image = Image.open(\"fashion.jpg\")\n",
    "display(image)"
   ]
  },
  {
   "cell_type": "markdown",
   "id": "1876c0e0",
   "metadata": {
    "slideshow": {
     "slide_type": "subslide"
    }
   },
   "source": [
    "### Fitting a K-Means Model on the Pixels"
   ]
  },
  {
   "cell_type": "code",
   "execution_count": null,
   "id": "cb4ce3f8",
   "metadata": {
    "slideshow": {
     "slide_type": "fragment"
    }
   },
   "outputs": [],
   "source": [
    "# Load image data into a multi-dimensional array of pixels\n",
    "import numpy as np\n",
    "pixels = np.array(image.getdata())\n",
    "pixels"
   ]
  },
  {
   "cell_type": "code",
   "execution_count": null,
   "id": "c830df10",
   "metadata": {
    "slideshow": {
     "slide_type": "fragment"
    }
   },
   "outputs": [],
   "source": [
    "# Fit a k-means model on the pixel data\n",
    "k = 6\n",
    "kmeans = KMeans(n_clusters=k, random_state=0).fit(pixels)"
   ]
  },
  {
   "cell_type": "code",
   "execution_count": null,
   "id": "04a382ff",
   "metadata": {
    "slideshow": {
     "slide_type": "fragment"
    }
   },
   "outputs": [],
   "source": [
    "# What was the final inertia (within-cluster sum of squares)?\n",
    "kmeans.inertia_"
   ]
  },
  {
   "cell_type": "code",
   "execution_count": null,
   "id": "60e7d88c",
   "metadata": {
    "slideshow": {
     "slide_type": "fragment"
    }
   },
   "outputs": [],
   "source": [
    "# Where are the centroids of the final clusters?\n",
    "kmeans.cluster_centers_"
   ]
  },
  {
   "cell_type": "markdown",
   "id": "6d08812b",
   "metadata": {
    "slideshow": {
     "slide_type": "subslide"
    }
   },
   "source": [
    "### Drawing the Palette on the Image"
   ]
  },
  {
   "cell_type": "code",
   "execution_count": null,
   "id": "2606c4e2",
   "metadata": {
    "slideshow": {
     "slide_type": "fragment"
    }
   },
   "outputs": [],
   "source": [
    "# Showing the image with Matplotlib rather than PIL\n",
    "import matplotlib.pyplot as plt\n",
    "\n",
    "# Get conversion from inches (default sizing) to pixels\n",
    "px = 1 / plt.rcParams['figure.dpi']\n",
    "\n",
    "# Set up a Matplotlib figure to display the image\n",
    "fig, ax = plt.subplots(figsize=(image.width*px, image.height*px))\n",
    "\n",
    "# Display the image\n",
    "ax.imshow(image);"
   ]
  },
  {
   "cell_type": "code",
   "execution_count": null,
   "id": "ae15bb24",
   "metadata": {
    "slideshow": {
     "slide_type": "fragment"
    }
   },
   "outputs": [],
   "source": [
    "# Showing the palette with Matplotlib\n",
    "\n",
    "# Set up k graphs\n",
    "fig, axes = plt.subplots(ncols=k, figsize=(3*k,3))\n",
    "\n",
    "# For each cluster center, set the color of a graph\n",
    "for index, color in enumerate(kmeans.cluster_centers_):\n",
    "    # Matplotlib colors range from 0 to 1 rather than 0 to 255\n",
    "    axes[index].set_facecolor(color / 255)\n",
    "    \n",
    "fig.tight_layout()"
   ]
  },
  {
   "cell_type": "code",
   "execution_count": null,
   "id": "1e34b4ae",
   "metadata": {
    "slideshow": {
     "slide_type": "fragment"
    }
   },
   "outputs": [],
   "source": [
    "# Bringing it all together\n",
    "from matplotlib.patches import Rectangle\n",
    "\n",
    "# Set up a Matplotlib figure to display the image and palette\n",
    "fig, ax = plt.subplots(figsize=(image.width*px, image.height*px))\n",
    "\n",
    "# Display the image\n",
    "ax.imshow(image)\n",
    "\n",
    "# Formatting using a grid that I sketched first on paper to mimic the filter\n",
    "horizontal_step = image.height / (6*k - 2)\n",
    "vertical_step = image.width / 6\n",
    "rect_width = vertical_step\n",
    "rect_height = 3 * horizontal_step\n",
    "\n",
    "# For each cluster center, draw a rectangle on the image\n",
    "for index, color in enumerate(kmeans.cluster_centers_):\n",
    "    anchor_point = (vertical_step * 4, horizontal_step * (k / 2 + 5 * index))\n",
    "\n",
    "    ax.add_patch(Rectangle(\n",
    "        xy=anchor_point, # upper left corner of rectangle (x, y)\n",
    "        width=rect_width,\n",
    "        height=rect_height,\n",
    "        facecolor=color / 255,\n",
    "        edgecolor=\"white\", # white border to add contrast\n",
    "        linewidth=5\n",
    "    ))\n",
    "\n",
    "# Hide the axis ticks (cosmetic improvement)\n",
    "ax.get_xaxis().set_visible(False)\n",
    "ax.get_yaxis().set_visible(False)"
   ]
  },
  {
   "cell_type": "markdown",
   "id": "b06a545d",
   "metadata": {
    "slideshow": {
     "slide_type": "subslide"
    }
   },
   "source": [
    "### Refactoring into a Function\n",
    "\n",
    "Reusable code!"
   ]
  },
  {
   "cell_type": "code",
   "execution_count": null,
   "id": "5f02a0e2",
   "metadata": {
    "slideshow": {
     "slide_type": "fragment"
    }
   },
   "outputs": [],
   "source": [
    "def plot_color_palette(image_path, k):\n",
    "    # Load image and pixel data\n",
    "    im = Image.open(image_path)\n",
    "    pixels = np.array(im.getdata())\n",
    "    \n",
    "    # Fit a k-means model using specified k\n",
    "    kmeans = KMeans(n_clusters=k, random_state=0).fit(pixels)\n",
    "    \n",
    "    # Get conversion from inches (default sizing) to pixels\n",
    "    px = 1 / plt.rcParams['figure.dpi']\n",
    "    \n",
    "    # Set up a Matplotlib figure to display the image and palette\n",
    "    fig, ax = plt.subplots(figsize=(im.width*px, im.height*px))\n",
    "    \n",
    "    # Display the image\n",
    "    ax.imshow(im)\n",
    "    \n",
    "    # Calculate layout grid\n",
    "    horizontal_step = im.height / (6*k - 2)\n",
    "    vertical_step = im.width / 6\n",
    "    rect_width = vertical_step\n",
    "    rect_height = 3 * horizontal_step\n",
    "\n",
    "    # For each cluster center, draw a rectangle on the image\n",
    "    for index, color in enumerate(kmeans.cluster_centers_):\n",
    "        anchor_point = (vertical_step * 4, horizontal_step * (k / 2 + 5 * index))\n",
    "\n",
    "        ax.add_patch(Rectangle(\n",
    "            xy=anchor_point, # upper left corner of rectangle (x, y)\n",
    "            width=rect_width,\n",
    "            height=rect_height,\n",
    "            facecolor=color / 255,\n",
    "            edgecolor=\"white\", # white border to add contrast\n",
    "            linewidth=5\n",
    "        ))\n",
    "\n",
    "    # Hide the axis ticks (cosmetic improvement)\n",
    "    ax.get_xaxis().set_visible(False)\n",
    "    ax.get_yaxis().set_visible(False)"
   ]
  },
  {
   "cell_type": "code",
   "execution_count": null,
   "id": "750a900b",
   "metadata": {
    "slideshow": {
     "slide_type": "fragment"
    }
   },
   "outputs": [],
   "source": [
    "plot_color_palette(\"fashion.jpg\", 4)"
   ]
  },
  {
   "cell_type": "code",
   "execution_count": null,
   "id": "84d25243",
   "metadata": {
    "slideshow": {
     "slide_type": "fragment"
    }
   },
   "outputs": [],
   "source": [
    "plot_color_palette(\"fashion.jpg\", 10)"
   ]
  },
  {
   "cell_type": "code",
   "execution_count": null,
   "id": "2ad04722",
   "metadata": {
    "slideshow": {
     "slide_type": "fragment"
    }
   },
   "outputs": [],
   "source": [
    "plot_color_palette(\"workspace.jpg\", 4)"
   ]
  },
  {
   "cell_type": "code",
   "execution_count": null,
   "id": "cc60f59e",
   "metadata": {},
   "outputs": [],
   "source": [
    "plot_color_palette(\"monitors.jpg\", 4)"
   ]
  },
  {
   "cell_type": "code",
   "execution_count": null,
   "id": "df06fffe",
   "metadata": {
    "slideshow": {
     "slide_type": "fragment"
    }
   },
   "outputs": [],
   "source": [
    "plot_color_palette(\"neon.jpg\", 4)"
   ]
  },
  {
   "cell_type": "code",
   "execution_count": null,
   "id": "975b60ff",
   "metadata": {
    "slideshow": {
     "slide_type": "fragment"
    }
   },
   "outputs": [],
   "source": [
    "plot_color_palette(\"blue_orange.jpg\", 4)"
   ]
  },
  {
   "cell_type": "code",
   "execution_count": null,
   "id": "97497a82",
   "metadata": {
    "slideshow": {
     "slide_type": "fragment"
    }
   },
   "outputs": [],
   "source": [
    "plot_color_palette(\"mountain_cabin.jpg\", 4)"
   ]
  },
  {
   "cell_type": "markdown",
   "id": "6b5a7b82-9dc0-4872-91de-9ca63ec92ed0",
   "metadata": {
    "slideshow": {
     "slide_type": "slide"
    }
   },
   "source": [
    "## Credits\n",
    "\n",
    "* Kate Compton for inspiration. Check her out on Twitter @GalaxyKate!\n",
    "  * https://twitter.com/GalaxyKate/status/1462258497702313985\n",
    "* Spreadsheet image\n",
    "  * Ferd1508, CC BY-SA 4.0 <https://creativecommons.org/licenses/by-sa/4.0>, via Wikimedia Commons\n",
    "* Stock market chart image\n",
    "  * PIX1861, CC BY-SA 4.0 <https://creativecommons.org/licenses/by-sa/4.0>, via Wikimedia Commons\n",
    "* Binary code image\n",
    "  * Graph+sas, CC BY-SA 4.0 <https://creativecommons.org/licenses/by-sa/4.0>, via Wikimedia Commons\n",
    "* Sunglasses Instagram filter image\n",
    "  * https://backlightblog.com/instagram-filters-effects\n",
    "* Green screen TikTok filter image\n",
    "  * https://medium.com/@TikTokUK/how-to-use-the-green-screen-effect-on-tiktok-a5cbb3af888c\n",
    "* Clarendon Instagram filter\n",
    "  * https://www.lifewire.com/best-instagram-filters-4177148\n",
    "* Color palette Instagram filter\n",
    "  * https://youtu.be/cIKEYNJl97c\n",
    "* Comparison of clustering algorithms\n",
    "  * https://scikit-learn.org/stable/auto_examples/cluster/plot_cluster_comparison.html\n",
    "* Color quantization\n",
    "  * https://en.wikipedia.org/wiki/Color_quantization\n",
    "* `fashion.jpg`\n",
    "  * Metropolitan Museum of Art, CC0, via Wikimedia Commons\n",
    "* `workspace.jpg`\n",
    "  * Photo by <a href=\"https://unsplash.com/@leecampbell?utm_source=unsplash&utm_medium=referral&utm_content=creditCopyText\">Lee  Campbell</a> on <a href=\"https://unsplash.com/s/photos/web-design?utm_source=unsplash&utm_medium=referral&utm_content=creditCopyText\">Unsplash</a>\n",
    "* `monitors.jpg`\n",
    "  * Photo by <a href=\"https://unsplash.com/@euwars?utm_source=unsplash&utm_medium=referral&utm_content=creditCopyText\">Farzad Nazifi</a> on <a href=\"https://unsplash.com/s/photos/web-design?utm_source=unsplash&utm_medium=referral&utm_content=creditCopyText\">Unsplash</a>\n",
    "* `neon.jpg`\n",
    "  * Photo by <a href=\"https://unsplash.com/@joesvalentine?utm_source=unsplash&utm_medium=referral&utm_content=creditCopyText\">Joes Valentine</a> on <a href=\"https://unsplash.com/s/photos/web-design?utm_source=unsplash&utm_medium=referral&utm_content=creditCopyText\">Unsplash</a>\n",
    "* `blue_orange.jpg`\n",
    "  * Photo by <a href=\"https://unsplash.com/@davisuko?utm_source=unsplash&utm_medium=referral&utm_content=creditCopyText\">davisuko</a> on <a href=\"https://unsplash.com/s/photos/web-design?utm_source=unsplash&utm_medium=referral&utm_content=creditCopyText\">Unsplash</a>\n",
    "* `mountain_cabin.jpg`\n",
    "  * Photo by <a href=\"https://unsplash.com/@eberhardgross?utm_source=unsplash&utm_medium=referral&utm_content=creditCopyText\">eberhard 🖐 grossgasteiger</a> on <a href=\"https://unsplash.com/t/wallpapers?utm_source=unsplash&utm_medium=referral&utm_content=creditCopyText\">Unsplash</a>"
   ]
  },
  {
   "cell_type": "markdown",
   "id": "7b241015",
   "metadata": {
    "slideshow": {
     "slide_type": "slide"
    }
   },
   "source": [
    "## Thanks!"
   ]
  },
  {
   "cell_type": "markdown",
   "id": "995c5155",
   "metadata": {
    "slideshow": {
     "slide_type": "skip"
    }
   },
   "source": [
    "## Appendix: Why Are the Colors So Neutral/Muted?\n",
    "\n",
    "This is only one algorithm for generating a color palette! It is trying to find colors that represent the mean (average) colors in the image.\n",
    "\n",
    "By comparison, if we use the `neon.jpg` image with color.adobe.com, we get this:\n",
    "\n",
    "<img src=\"neon_adobe.png\" />\n",
    "\n",
    "It looks like they are using a different algorithm that ignores colors that are more neutral. It might be a variation on k-means, or it might be something completely different!"
   ]
  }
 ],
 "metadata": {
  "celltoolbar": "Slideshow",
  "kernelspec": {
   "display_name": "Python (base)",
   "language": "python",
   "name": "base"
  },
  "language_info": {
   "codemirror_mode": {
    "name": "ipython",
    "version": 3
   },
   "file_extension": ".py",
   "mimetype": "text/x-python",
   "name": "python",
   "nbconvert_exporter": "python",
   "pygments_lexer": "ipython3",
   "version": "3.9.12"
  },
  "rise": {
   "scroll": true,
   "transition": "fade"
  }
 },
 "nbformat": 4,
 "nbformat_minor": 5
}
